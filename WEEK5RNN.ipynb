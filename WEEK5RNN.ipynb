{
  "cells": [
    {
      "cell_type": "code",
      "execution_count": 1,
      "id": "a189b155",
      "metadata": {
        "id": "a189b155"
      },
      "outputs": [],
      "source": [
        "import pandas as pd\n",
        "import numpy as np"
      ]
    },
    {
      "cell_type": "code",
      "execution_count": 2,
      "id": "36ae5ff8",
      "metadata": {
        "id": "36ae5ff8"
      },
      "outputs": [],
      "source": [
        "sentences = [\n",
        "    \"The sun rises in the east\",\n",
        "    \"She loves reading books\",\n",
        "    \"He plays football every weekend\",\n",
        "    \"The cat is sleeping on the couch\",\n",
        "    \"I am learning to cook delicious meals\",\n",
        "    \"They are planning a trip to the mountains\",\n",
        "    \"My best friend lives in New York\",\n",
        "    \"The weather is very cold today\",\n",
        "    \"We enjoyed watching the fireworks last night\",\n",
        "    \"Her garden is full of beautiful flowers\"\n",
        "]\n"
      ]
    },
    {
      "cell_type": "code",
      "execution_count": 3,
      "id": "f0bfebaa",
      "metadata": {
        "id": "f0bfebaa"
      },
      "outputs": [],
      "source": [
        "label = [10, 0, 1, 1, 1, 0, 0, 1, 0, 0]"
      ]
    },
    {
      "cell_type": "code",
      "execution_count": 4,
      "id": "ae9bddbb",
      "metadata": {
        "id": "ae9bddbb"
      },
      "outputs": [],
      "source": [
        "from tensorflow.keras.preprocessing.text import Tokenizer"
      ]
    },
    {
      "cell_type": "code",
      "execution_count": 5,
      "id": "9716961e",
      "metadata": {
        "id": "9716961e"
      },
      "outputs": [],
      "source": [
        "from tensorflow.keras.preprocessing.sequence import pad_sequences"
      ]
    },
    {
      "cell_type": "code",
      "execution_count": 6,
      "id": "0b78c23c",
      "metadata": {
        "id": "0b78c23c"
      },
      "outputs": [],
      "source": [
        "tokens = Tokenizer(oov_token = 'oov')\n",
        "tokens.fit_on_texts(sentences)"
      ]
    },
    {
      "cell_type": "code",
      "execution_count": 7,
      "id": "82ff6d88",
      "metadata": {
        "id": "82ff6d88"
      },
      "outputs": [],
      "source": [
        "vocab = tokens.word_index"
      ]
    },
    {
      "cell_type": "code",
      "execution_count": 8,
      "id": "5427c859",
      "metadata": {
        "colab": {
          "base_uri": "https://localhost:8080/"
        },
        "id": "5427c859",
        "outputId": "b146e3f0-5a5b-4134-c117-caa3fd45ad0c"
      },
      "outputs": [
        {
          "output_type": "execute_result",
          "data": {
            "text/plain": [
              "{'oov': 1,\n",
              " 'the': 2,\n",
              " 'is': 3,\n",
              " 'in': 4,\n",
              " 'to': 5,\n",
              " 'sun': 6,\n",
              " 'rises': 7,\n",
              " 'east': 8,\n",
              " 'she': 9,\n",
              " 'loves': 10,\n",
              " 'reading': 11,\n",
              " 'books': 12,\n",
              " 'he': 13,\n",
              " 'plays': 14,\n",
              " 'football': 15,\n",
              " 'every': 16,\n",
              " 'weekend': 17,\n",
              " 'cat': 18,\n",
              " 'sleeping': 19,\n",
              " 'on': 20,\n",
              " 'couch': 21,\n",
              " 'i': 22,\n",
              " 'am': 23,\n",
              " 'learning': 24,\n",
              " 'cook': 25,\n",
              " 'delicious': 26,\n",
              " 'meals': 27,\n",
              " 'they': 28,\n",
              " 'are': 29,\n",
              " 'planning': 30,\n",
              " 'a': 31,\n",
              " 'trip': 32,\n",
              " 'mountains': 33,\n",
              " 'my': 34,\n",
              " 'best': 35,\n",
              " 'friend': 36,\n",
              " 'lives': 37,\n",
              " 'new': 38,\n",
              " 'york': 39,\n",
              " 'weather': 40,\n",
              " 'very': 41,\n",
              " 'cold': 42,\n",
              " 'today': 43,\n",
              " 'we': 44,\n",
              " 'enjoyed': 45,\n",
              " 'watching': 46,\n",
              " 'fireworks': 47,\n",
              " 'last': 48,\n",
              " 'night': 49,\n",
              " 'her': 50,\n",
              " 'garden': 51,\n",
              " 'full': 52,\n",
              " 'of': 53,\n",
              " 'beautiful': 54,\n",
              " 'flowers': 55}"
            ]
          },
          "metadata": {},
          "execution_count": 8
        }
      ],
      "source": [
        "vocab"
      ]
    },
    {
      "cell_type": "code",
      "execution_count": 9,
      "id": "9d59ef66",
      "metadata": {
        "id": "9d59ef66"
      },
      "outputs": [],
      "source": [
        "sequence = tokens.texts_to_sequences(sentences)"
      ]
    },
    {
      "cell_type": "code",
      "execution_count": 10,
      "id": "8c05b1df",
      "metadata": {
        "colab": {
          "base_uri": "https://localhost:8080/"
        },
        "id": "8c05b1df",
        "outputId": "749fba32-83c5-4d10-b14a-584c998a4cde"
      },
      "outputs": [
        {
          "output_type": "execute_result",
          "data": {
            "text/plain": [
              "[[2, 6, 7, 4, 2, 8],\n",
              " [9, 10, 11, 12],\n",
              " [13, 14, 15, 16, 17],\n",
              " [2, 18, 3, 19, 20, 2, 21],\n",
              " [22, 23, 24, 5, 25, 26, 27],\n",
              " [28, 29, 30, 31, 32, 5, 2, 33],\n",
              " [34, 35, 36, 37, 4, 38, 39],\n",
              " [2, 40, 3, 41, 42, 43],\n",
              " [44, 45, 46, 2, 47, 48, 49],\n",
              " [50, 51, 3, 52, 53, 54, 55]]"
            ]
          },
          "metadata": {},
          "execution_count": 10
        }
      ],
      "source": [
        "sequence"
      ]
    },
    {
      "cell_type": "code",
      "execution_count": 11,
      "id": "3e49abfa",
      "metadata": {
        "id": "3e49abfa"
      },
      "outputs": [],
      "source": [
        "sequences = pad_sequences(sequence, maxlen=6, padding = 'post', truncating='post')"
      ]
    },
    {
      "cell_type": "code",
      "execution_count": 12,
      "id": "7a4d807d",
      "metadata": {
        "colab": {
          "base_uri": "https://localhost:8080/"
        },
        "id": "7a4d807d",
        "outputId": "2ef9bed0-74f2-43f6-ff97-1168e8149813"
      },
      "outputs": [
        {
          "output_type": "execute_result",
          "data": {
            "text/plain": [
              "array([[ 2,  6,  7,  4,  2,  8],\n",
              "       [ 9, 10, 11, 12,  0,  0],\n",
              "       [13, 14, 15, 16, 17,  0],\n",
              "       [ 2, 18,  3, 19, 20,  2],\n",
              "       [22, 23, 24,  5, 25, 26],\n",
              "       [28, 29, 30, 31, 32,  5],\n",
              "       [34, 35, 36, 37,  4, 38],\n",
              "       [ 2, 40,  3, 41, 42, 43],\n",
              "       [44, 45, 46,  2, 47, 48],\n",
              "       [50, 51,  3, 52, 53, 54]], dtype=int32)"
            ]
          },
          "metadata": {},
          "execution_count": 12
        }
      ],
      "source": [
        "sequences"
      ]
    },
    {
      "cell_type": "code",
      "execution_count": 13,
      "id": "02ef89f4",
      "metadata": {
        "colab": {
          "base_uri": "https://localhost:8080/"
        },
        "id": "02ef89f4",
        "outputId": "5b21dd22-b8c4-4515-d60f-5c785f4fd42e"
      },
      "outputs": [
        {
          "output_type": "execute_result",
          "data": {
            "text/plain": [
              "(10, 6)"
            ]
          },
          "metadata": {},
          "execution_count": 13
        }
      ],
      "source": [
        "sequences.shape"
      ]
    },
    {
      "cell_type": "code",
      "execution_count": 14,
      "id": "d152fbb9",
      "metadata": {
        "colab": {
          "base_uri": "https://localhost:8080/"
        },
        "id": "d152fbb9",
        "outputId": "9c4d0938-6e25-4a25-b2f1-63a292f20970"
      },
      "outputs": [
        {
          "output_type": "execute_result",
          "data": {
            "text/plain": [
              "10"
            ]
          },
          "metadata": {},
          "execution_count": 14
        }
      ],
      "source": [
        " sequences.shape[0]"
      ]
    },
    {
      "cell_type": "code",
      "execution_count": 15,
      "id": "d000c232",
      "metadata": {
        "id": "d000c232"
      },
      "outputs": [],
      "source": [
        "label = np.array(label).reshape(-1)"
      ]
    },
    {
      "cell_type": "code",
      "execution_count": 16,
      "id": "9a5dc9e7",
      "metadata": {
        "id": "9a5dc9e7"
      },
      "outputs": [],
      "source": [
        "from keras.models import Sequential\n",
        "from keras.layers import SimpleRNN,Dense"
      ]
    },
    {
      "cell_type": "code",
      "execution_count": 17,
      "id": "a40ed9b9",
      "metadata": {
        "id": "a40ed9b9"
      },
      "outputs": [],
      "source": [
        "model = Sequential()"
      ]
    },
    {
      "cell_type": "code",
      "execution_count": 18,
      "id": "8e0aac1c",
      "metadata": {
        "colab": {
          "base_uri": "https://localhost:8080/"
        },
        "id": "8e0aac1c",
        "outputId": "6acf9db8-d892-47a4-fa93-42346ce871e5"
      },
      "outputs": [
        {
          "output_type": "stream",
          "name": "stderr",
          "text": [
            "/usr/local/lib/python3.10/dist-packages/keras/src/layers/rnn/rnn.py:204: UserWarning: Do not pass an `input_shape`/`input_dim` argument to a layer. When using Sequential models, prefer using an `Input(shape)` object as the first layer in the model instead.\n",
            "  super().__init__(**kwargs)\n"
          ]
        }
      ],
      "source": [
        "model.add(SimpleRNN(1, input_shape=(sequences.shape[1],1), activation = 'relu' ))\n",
        "model.add(Dense(1, activation = 'sigmoid'))"
      ]
    },
    {
      "cell_type": "code",
      "execution_count": 19,
      "id": "0cbefc5c",
      "metadata": {
        "id": "0cbefc5c"
      },
      "outputs": [],
      "source": [
        "model.compile(optimizer='adam', loss='binary_crossentropy', metrics=['accuracy'])\n"
      ]
    },
    {
      "cell_type": "code",
      "execution_count": 20,
      "id": "19f88fde",
      "metadata": {
        "colab": {
          "base_uri": "https://localhost:8080/"
        },
        "id": "19f88fde",
        "outputId": "2caaf029-f55d-4f33-9d5c-95d0d206e047"
      },
      "outputs": [
        {
          "output_type": "stream",
          "name": "stdout",
          "text": [
            "\u001b[1m1/1\u001b[0m \u001b[32m━━━━━━━━━━━━━━━━━━━━\u001b[0m\u001b[37m\u001b[0m \u001b[1m2s\u001b[0m 2s/step - accuracy: 0.4000 - loss: 122.3948\n"
          ]
        },
        {
          "output_type": "execute_result",
          "data": {
            "text/plain": [
              "<keras.src.callbacks.history.History at 0x7996bbe0fd30>"
            ]
          },
          "metadata": {},
          "execution_count": 20
        }
      ],
      "source": [
        "model.fit(sequences, label)"
      ]
    },
    {
      "cell_type": "code",
      "execution_count": 21,
      "id": "04ed8ee1",
      "metadata": {
        "id": "04ed8ee1"
      },
      "outputs": [],
      "source": [
        "test = ['I found a gem yesterday']"
      ]
    },
    {
      "cell_type": "code",
      "execution_count": 22,
      "id": "c64dcdd8",
      "metadata": {
        "id": "c64dcdd8"
      },
      "outputs": [],
      "source": [
        "test = tokens.texts_to_sequences(test)"
      ]
    },
    {
      "cell_type": "code",
      "execution_count": 23,
      "id": "4bad7e99",
      "metadata": {
        "id": "4bad7e99"
      },
      "outputs": [],
      "source": [
        "test = pad_sequences(test, padding = 'post', truncating = 'post', maxlen = 6)"
      ]
    },
    {
      "cell_type": "code",
      "execution_count": 24,
      "id": "7783739e",
      "metadata": {
        "colab": {
          "base_uri": "https://localhost:8080/"
        },
        "id": "7783739e",
        "outputId": "b09ce594-2290-46a9-cea5-bbc2707c6cb2"
      },
      "outputs": [
        {
          "output_type": "execute_result",
          "data": {
            "text/plain": [
              "array([[22,  1, 31,  1,  1,  0]], dtype=int32)"
            ]
          },
          "metadata": {},
          "execution_count": 24
        }
      ],
      "source": [
        "test"
      ]
    },
    {
      "cell_type": "code",
      "execution_count": 25,
      "id": "25fcbf90",
      "metadata": {
        "colab": {
          "base_uri": "https://localhost:8080/"
        },
        "id": "25fcbf90",
        "outputId": "6546bbd7-bfbe-4553-e1a1-230b000172a3"
      },
      "outputs": [
        {
          "output_type": "execute_result",
          "data": {
            "text/plain": [
              "(1, 6)"
            ]
          },
          "metadata": {},
          "execution_count": 25
        }
      ],
      "source": [
        "test.shape"
      ]
    },
    {
      "cell_type": "code",
      "execution_count": 26,
      "id": "7eaf01c1",
      "metadata": {
        "colab": {
          "base_uri": "https://localhost:8080/"
        },
        "id": "7eaf01c1",
        "outputId": "1dedfc60-5111-49ea-bbed-7da0905c12c1"
      },
      "outputs": [
        {
          "output_type": "stream",
          "name": "stdout",
          "text": [
            "\u001b[1m1/1\u001b[0m \u001b[32m━━━━━━━━━━━━━━━━━━━━\u001b[0m\u001b[37m\u001b[0m \u001b[1m0s\u001b[0m 135ms/step\n"
          ]
        },
        {
          "output_type": "execute_result",
          "data": {
            "text/plain": [
              "array([[1.]], dtype=float32)"
            ]
          },
          "metadata": {},
          "execution_count": 26
        }
      ],
      "source": [
        "model.predict(test)"
      ]
    },
    {
      "cell_type": "code",
      "execution_count": 27,
      "id": "175606f1",
      "metadata": {
        "colab": {
          "base_uri": "https://localhost:8080/"
        },
        "id": "175606f1",
        "outputId": "6b71a41c-cb7f-4ee0-bba7-3bf6e96e94c8"
      },
      "outputs": [
        {
          "output_type": "execute_result",
          "data": {
            "text/plain": [
              "{'oov': 1,\n",
              " 'the': 2,\n",
              " 'is': 3,\n",
              " 'in': 4,\n",
              " 'to': 5,\n",
              " 'sun': 6,\n",
              " 'rises': 7,\n",
              " 'east': 8,\n",
              " 'she': 9,\n",
              " 'loves': 10,\n",
              " 'reading': 11,\n",
              " 'books': 12,\n",
              " 'he': 13,\n",
              " 'plays': 14,\n",
              " 'football': 15,\n",
              " 'every': 16,\n",
              " 'weekend': 17,\n",
              " 'cat': 18,\n",
              " 'sleeping': 19,\n",
              " 'on': 20,\n",
              " 'couch': 21,\n",
              " 'i': 22,\n",
              " 'am': 23,\n",
              " 'learning': 24,\n",
              " 'cook': 25,\n",
              " 'delicious': 26,\n",
              " 'meals': 27,\n",
              " 'they': 28,\n",
              " 'are': 29,\n",
              " 'planning': 30,\n",
              " 'a': 31,\n",
              " 'trip': 32,\n",
              " 'mountains': 33,\n",
              " 'my': 34,\n",
              " 'best': 35,\n",
              " 'friend': 36,\n",
              " 'lives': 37,\n",
              " 'new': 38,\n",
              " 'york': 39,\n",
              " 'weather': 40,\n",
              " 'very': 41,\n",
              " 'cold': 42,\n",
              " 'today': 43,\n",
              " 'we': 44,\n",
              " 'enjoyed': 45,\n",
              " 'watching': 46,\n",
              " 'fireworks': 47,\n",
              " 'last': 48,\n",
              " 'night': 49,\n",
              " 'her': 50,\n",
              " 'garden': 51,\n",
              " 'full': 52,\n",
              " 'of': 53,\n",
              " 'beautiful': 54,\n",
              " 'flowers': 55}"
            ]
          },
          "metadata": {},
          "execution_count": 27
        }
      ],
      "source": [
        "tokens.word_index"
      ]
    },
    {
      "cell_type": "code",
      "execution_count": 27,
      "id": "f5edca6d",
      "metadata": {
        "id": "f5edca6d"
      },
      "outputs": [],
      "source": []
    },
    {
      "cell_type": "code",
      "execution_count": 27,
      "id": "ffc244cc",
      "metadata": {
        "id": "ffc244cc"
      },
      "outputs": [],
      "source": []
    }
  ],
  "metadata": {
    "kernelspec": {
      "display_name": "Python 3 (ipykernel)",
      "language": "python",
      "name": "python3"
    },
    "language_info": {
      "codemirror_mode": {
        "name": "ipython",
        "version": 3
      },
      "file_extension": ".py",
      "mimetype": "text/x-python",
      "name": "python",
      "nbconvert_exporter": "python",
      "pygments_lexer": "ipython3",
      "version": "3.10.12"
    },
    "colab": {
      "provenance": []
    }
  },
  "nbformat": 4,
  "nbformat_minor": 5
}